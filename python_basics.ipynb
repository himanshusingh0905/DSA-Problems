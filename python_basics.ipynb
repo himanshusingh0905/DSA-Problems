{
  "nbformat": 4,
  "nbformat_minor": 0,
  "metadata": {
    "colab": {
      "provenance": [],
      "toc_visible": true,
      "include_colab_link": true
    },
    "kernelspec": {
      "name": "python3",
      "display_name": "Python 3"
    },
    "language_info": {
      "name": "python"
    }
  },
  "cells": [
    {
      "cell_type": "markdown",
      "metadata": {
        "id": "view-in-github",
        "colab_type": "text"
      },
      "source": [
        "<a href=\"https://colab.research.google.com/github/himanshusingh0905/DSA-Problems/blob/main/python_basics.ipynb\" target=\"_parent\"><img src=\"https://colab.research.google.com/assets/colab-badge.svg\" alt=\"Open In Colab\"/></a>"
      ]
    },
    {
      "cell_type": "markdown",
      "source": [
        "# 1. Python Variables & Data types"
      ],
      "metadata": {
        "id": "VHH3XdjP94UI"
      }
    },
    {
      "cell_type": "code",
      "source": [
        "age = 40\n",
        "\n",
        "# 1. print using 'string - concatenation'\n",
        "\n",
        "# print(\"you are \"+ age + \"years old\")  # you are going to get TypeError here as age is int\n",
        "# correction : age is type-casted to int\n",
        "print(\"you are \"+ str(age) + \" years old\")\n",
        "\n",
        "# 2. Pass as argument or using comma\n",
        "print(\"you are\", age , \"years old\") # Here It is treating them as 3 arguments, so automatic space is included after comma\n",
        "\n",
        "# 3. fstrings\n",
        "print( f\"you are {age} years old\")"
      ],
      "metadata": {
        "colab": {
          "base_uri": "https://localhost:8080/"
        },
        "id": "DC9ZW_Xu-N8I",
        "outputId": "4282f76b-fe44-4ef9-bfaa-b8f8094da355"
      },
      "execution_count": null,
      "outputs": [
        {
          "output_type": "stream",
          "name": "stdout",
          "text": [
            "you are 40 years old\n",
            "you are 40 years old\n",
            "you are 40 years old\n"
          ]
        }
      ]
    },
    {
      "cell_type": "markdown",
      "source": [
        "## Data types\n",
        "  ### 1. Numbers"
      ],
      "metadata": {
        "id": "nydrpdy_9JNq"
      }
    },
    {
      "cell_type": "code",
      "source": [
        "a = 25\n",
        "b = 25.4\n",
        "c = 7 + 4j\n",
        "\n",
        "print(type(a))\n",
        "print(type(b))\n",
        "print(type(c))"
      ],
      "metadata": {
        "colab": {
          "base_uri": "https://localhost:8080/"
        },
        "id": "xFl3CdHn-PxS",
        "outputId": "425d58e7-e2c0-42ae-91ef-ce5020f966b0"
      },
      "execution_count": null,
      "outputs": [
        {
          "output_type": "stream",
          "name": "stdout",
          "text": [
            "<class 'int'>\n",
            "<class 'float'>\n",
            "<class 'complex'>\n"
          ]
        }
      ]
    },
    {
      "cell_type": "markdown",
      "source": [
        "### 2. STRING (str)"
      ],
      "metadata": {
        "id": "vo7Hjg7PBVOT"
      }
    },
    {
      "cell_type": "code",
      "source": [
        "email = \"him095@gmail.com\"\n",
        "name = \"Himanshu\"\n",
        "print(f\"your name is {name}\")\n",
        "print(f\"your email is {email}\")\n",
        "\n",
        "print(type(name))"
      ],
      "metadata": {
        "colab": {
          "base_uri": "https://localhost:8080/"
        },
        "id": "DiI_gyAa9Ax7",
        "outputId": "380004ed-6f1e-4115-fbf9-20fee1b0c7bb"
      },
      "execution_count": null,
      "outputs": [
        {
          "output_type": "stream",
          "name": "stdout",
          "text": [
            "your name is Himanshu\n",
            "your email is him095@gmail.com\n",
            "<class 'str'>\n"
          ]
        }
      ]
    },
    {
      "cell_type": "markdown",
      "source": [
        "### 3. BOOLEAN ( True or False ):"
      ],
      "metadata": {
        "id": "-NgEi_9mBSxn"
      }
    },
    {
      "cell_type": "code",
      "source": [
        "flag = True\n",
        "print(f\"Are you single {flag}\")\n",
        "print(type(flag))"
      ],
      "metadata": {
        "colab": {
          "base_uri": "https://localhost:8080/"
        },
        "id": "77CYCX0CCgpY",
        "outputId": "d963c1d8-de09-4cac-b5cb-5647de860403"
      },
      "execution_count": null,
      "outputs": [
        {
          "output_type": "stream",
          "name": "stdout",
          "text": [
            "Are you single True\n",
            "<class 'bool'>\n"
          ]
        }
      ]
    },
    {
      "cell_type": "markdown",
      "source": [
        "## Ways to assign values to varibles\n",
        "\n",
        "#### 1. ONE TO MANY\n",
        "#### 2. MANY TO MANY\n",
        "#### 3. MANY TO ITERABLE ( OR ANY COLLECTION )"
      ],
      "metadata": {
        "id": "gJ35snCLgLbN"
      }
    },
    {
      "cell_type": "code",
      "source": [
        "# One to Many"
      ],
      "metadata": {
        "id": "QAUe4C8VCqZ8"
      },
      "execution_count": null,
      "outputs": []
    },
    {
      "cell_type": "markdown",
      "source": [
        "![green-divider](https://user-images.githubusercontent.com/7065401/52071924-c003ad80-2562-11e9-8297-1c6595f8a7ff.png)"
      ],
      "metadata": {
        "id": "AP9Xt0NkhwRF"
      }
    },
    {
      "cell_type": "markdown",
      "source": [
        "# User Input & Type-Casting:"
      ],
      "metadata": {
        "id": "M0iCZzJYWRg4"
      }
    },
    {
      "cell_type": "code",
      "source": [
        "# User input\n",
        "name = input(\"Enter your name \")\n",
        "print(f\"Hello {name}\")"
      ],
      "metadata": {
        "colab": {
          "base_uri": "https://localhost:8080/"
        },
        "id": "qUkjWIRwdYxK",
        "outputId": "34fdf45b-3cee-4a04-8beb-057e59b0fb48"
      },
      "execution_count": null,
      "outputs": [
        {
          "output_type": "stream",
          "name": "stdout",
          "text": [
            "Enter your name Himanshu\n",
            "Hello Himanshu\n"
          ]
        }
      ]
    },
    {
      "cell_type": "code",
      "source": [
        "# input() returns 'str' type:\n",
        "age = input(\"Enter your age: \")\n",
        "\n",
        "# Suppose I want to increase my age by 1\n",
        "# age = age + 1\n",
        "# Yes, I am going to get TypeError, If I do previous action.\n",
        "print(age)\n",
        "print(type(age))"
      ],
      "metadata": {
        "colab": {
          "base_uri": "https://localhost:8080/"
        },
        "id": "F9ctcYxjdeyy",
        "outputId": "fc4a0a2b-103e-4306-d297-a5139c6079cd"
      },
      "execution_count": 5,
      "outputs": [
        {
          "output_type": "stream",
          "name": "stdout",
          "text": [
            "Enter your age: 25\n",
            "25\n",
            "<class 'str'>\n"
          ]
        }
      ]
    },
    {
      "cell_type": "markdown",
      "source": [
        "**NOTE:** In Previous example, If I do `age = age + 1`. I am going to get **TypeError**.Because you can't concatenate `str` to `int`.\n",
        "\n",
        "*Hence the Role of Type-casting comes here...*"
      ],
      "metadata": {
        "id": "Ls260LbwDs3i"
      }
    },
    {
      "cell_type": "markdown",
      "source": [
        "### Note : By default input() function returns `str` type. so we have to typecast it into other data types."
      ],
      "metadata": {
        "id": "wkS0XHexBh0q"
      }
    },
    {
      "cell_type": "markdown",
      "source": [
        "\n",
        "### TYPE-CASTING:"
      ],
      "metadata": {
        "id": "a4fOA6r3WfsW"
      }
    },
    {
      "cell_type": "code",
      "source": [
        "# How to take int, float and bool input\n",
        "i = int(input())\n",
        "f = float(input())\n",
        "b = bool(input())\n",
        "co = complex(input())\n",
        "print(type(i))\n",
        "print(type(f))\n",
        "print(type(b))\n",
        "print(type(co))\n",
        "print(i)\n",
        "print(f)\n",
        "print(b)\n",
        "print(co)"
      ],
      "metadata": {
        "colab": {
          "base_uri": "https://localhost:8080/"
        },
        "id": "uGoX1Zv4ezas",
        "outputId": "33833559-88d0-416c-8773-932b422da750"
      },
      "execution_count": null,
      "outputs": [
        {
          "output_type": "stream",
          "name": "stdout",
          "text": [
            "25\n",
            "36\n",
            "9\n",
            "2+5j\n",
            "<class 'int'>\n",
            "<class 'float'>\n",
            "<class 'bool'>\n",
            "<class 'complex'>\n",
            "25\n",
            "36.0\n",
            "True\n",
            "(2+5j)\n"
          ]
        }
      ]
    },
    {
      "cell_type": "code",
      "source": [
        "# QUESTION : WHAT WOULD THESE BOOLEAN VARIABLES PRINT ?\n",
        "str1 = \"\"\n",
        "str2 = \" \"\n",
        "str1 = bool(str1)\n",
        "print(str1)\n",
        "str2 = bool(str2)\n",
        "print(str2)\n",
        "\n",
        "# Note : this way we can also find out that if string is empty or not.\n",
        "#        Because empty string when type-casted to bool, becomes false.\n"
      ],
      "metadata": {
        "colab": {
          "base_uri": "https://localhost:8080/"
        },
        "id": "ZgUlzk-UKMAX",
        "outputId": "bce83dd3-22ff-47ac-e705-ea1995378b28"
      },
      "execution_count": null,
      "outputs": [
        {
          "output_type": "stream",
          "name": "stdout",
          "text": [
            "False\n",
            "True\n"
          ]
        }
      ]
    },
    {
      "cell_type": "markdown",
      "source": [
        "#### Basically type-casting is of two types:\n",
        "*  #### Explicit : Manual type-casting or ` Doing casting by yourself`\n",
        "*  #### Implicit : Automatic type-casting."
      ],
      "metadata": {
        "id": "0EthfhhsYNtN"
      }
    },
    {
      "cell_type": "code",
      "source": [
        "# Implicit Type-casting\n",
        "a = 4     # int\n",
        "b = 10.0  # float\n",
        "\n",
        "c = b / a\n",
        "\n",
        "print(c)\n",
        "print(type(c))\n",
        "#--------------------------------------------------------------------\n",
        "# EXample 2:\n",
        "\n",
        "a = 5.2\n",
        "b  = 2 + 3j\n",
        "\n",
        "c = a + b\n",
        "\n",
        "print(c)\n",
        "print(type(c))"
      ],
      "metadata": {
        "id": "nW-x6wpJZUau",
        "colab": {
          "base_uri": "https://localhost:8080/"
        },
        "outputId": "701ebe51-a9c4-4510-e85a-a46e277a0488"
      },
      "execution_count": 2,
      "outputs": [
        {
          "output_type": "stream",
          "name": "stdout",
          "text": [
            "2.5\n",
            "<class 'float'>\n",
            "(7.2+3j)\n",
            "<class 'complex'>\n"
          ]
        }
      ]
    },
    {
      "cell_type": "markdown",
      "source": [
        "**NOTE :** Above variable `c` was automatically typecasted. so Implicit typecasting is done from lower data-type to higher data type. Like above:\n",
        "* `int` was typecasted to `float`.\n",
        "*  `float` was typecasted to `complex`.\n"
      ],
      "metadata": {
        "id": "tK4KLBqcgLpE"
      }
    },
    {
      "cell_type": "markdown",
      "source": [
        "![purple-divider](https://user-images.githubusercontent.com/7065401/52071927-c1cd7100-2562-11e9-908a-dde91ba14e59.png)\n",
        "\n",
        "\n",
        "# OOPs:"
      ],
      "metadata": {
        "id": "wdqQy7eliUq4"
      }
    },
    {
      "cell_type": "code",
      "source": [
        "class Car:\n",
        "  def __init__(self):\n",
        "    self.make = 2007\n",
        "\n",
        "audi = Car()\n",
        "print(audi.make)"
      ],
      "metadata": {
        "colab": {
          "base_uri": "https://localhost:8080/"
        },
        "id": "T7daaOOyfN7v",
        "outputId": "7a38544a-b6f6-4a92-caac-5bb4b1a9bcc4"
      },
      "execution_count": null,
      "outputs": [
        {
          "output_type": "stream",
          "name": "stdout",
          "text": [
            "2007\n"
          ]
        }
      ]
    },
    {
      "cell_type": "code",
      "source": [],
      "metadata": {
        "id": "fqESUzEWSv-3"
      },
      "execution_count": null,
      "outputs": []
    }
  ]
}